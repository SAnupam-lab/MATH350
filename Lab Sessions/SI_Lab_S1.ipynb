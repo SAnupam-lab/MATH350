{
  "nbformat": 4,
  "nbformat_minor": 0,
  "metadata": {
    "colab": {
      "provenance": [],
      "collapsed_sections": [
        "xExCeV_aTITN",
        "8-OX5o2fTITW",
        "cqSVTXshWki9",
        "OuG1VcJuWkjD",
        "BjsnQ9gYWkjL",
        "rI5o-1YLWkjS",
        "wCkm8FPtWkjU",
        "en8F64rmWfsJ",
        "xOvwxMCe2QLN",
        "NVYXFg0VWfsU",
        "mp5XR2GGWfsW",
        "qnxYsz19Wfsa",
        "xYwDeXwUWfsb",
        "5E7k3UN-Wfsc",
        "17rY2-PTNjsq"
      ]
    },
    "kernelspec": {
      "name": "python3",
      "display_name": "Python 3"
    },
    "language_info": {
      "name": "python"
    }
  },
  "cells": [
    {
      "cell_type": "markdown",
      "metadata": {
        "ein.tags": "worksheet-0",
        "id": "xExCeV_aTITN"
      },
      "source": [
        "# Basic statistics"
      ]
    },
    {
      "cell_type": "code",
      "execution_count": null,
      "metadata": {
        "autoscroll": false,
        "ein.hycell": false,
        "ein.tags": "worksheet-0",
        "id": "ZobEeaJ8TITP"
      },
      "outputs": [],
      "source": [
        "import numpy"
      ]
    },
    {
      "cell_type": "markdown",
      "metadata": {
        "ein.tags": "worksheet-0",
        "id": "773THfeITITQ"
      },
      "source": [
        "We can use Python as simple interactive calculator:"
      ]
    },
    {
      "cell_type": "code",
      "execution_count": null,
      "metadata": {
        "autoscroll": false,
        "ein.hycell": false,
        "ein.tags": "worksheet-0",
        "id": "oBEGSM5bTITQ",
        "outputId": "95342df7-6441-4216-e2a6-09562d2cc214",
        "colab": {
          "base_uri": "https://localhost:8080/"
        }
      },
      "outputs": [
        {
          "output_type": "execute_result",
          "data": {
            "text/plain": [
              "9"
            ]
          },
          "metadata": {},
          "execution_count": 2
        }
      ],
      "source": [
        "2 + 3 + 4"
      ]
    },
    {
      "cell_type": "markdown",
      "metadata": {
        "ein.tags": "worksheet-0",
        "id": "is8mLV6-TITR"
      },
      "source": [
        "Here we call the `sqrt` function from the numpy library."
      ]
    },
    {
      "cell_type": "code",
      "execution_count": null,
      "metadata": {
        "autoscroll": false,
        "ein.hycell": false,
        "ein.tags": "worksheet-0",
        "id": "KDFEubgHTITR",
        "outputId": "88ed0131-00ce-4b30-fe31-7e5e436af8d9",
        "colab": {
          "base_uri": "https://localhost:8080/"
        }
      },
      "outputs": [
        {
          "output_type": "execute_result",
          "data": {
            "text/plain": [
              "2.0"
            ]
          },
          "metadata": {},
          "execution_count": 3
        }
      ],
      "source": [
        "numpy.sqrt(2 + 2)"
      ]
    },
    {
      "cell_type": "markdown",
      "metadata": {
        "ein.tags": "worksheet-0",
        "id": "VyvnkiGkTITR"
      },
      "source": [
        "Some useful constants are predefined."
      ]
    },
    {
      "cell_type": "code",
      "execution_count": null,
      "metadata": {
        "autoscroll": false,
        "ein.hycell": false,
        "ein.tags": "worksheet-0",
        "id": "8yy2gDpzTITS",
        "outputId": "b90fa920-f9ab-4f3a-c43c-e2208ea57781",
        "colab": {
          "base_uri": "https://localhost:8080/"
        }
      },
      "outputs": [
        {
          "output_type": "execute_result",
          "data": {
            "text/plain": [
              "3.141592653589793"
            ]
          },
          "metadata": {},
          "execution_count": 4
        }
      ],
      "source": [
        "numpy.pi"
      ]
    },
    {
      "cell_type": "code",
      "execution_count": null,
      "metadata": {
        "autoscroll": false,
        "ein.hycell": false,
        "ein.tags": "worksheet-0",
        "id": "6cKxAEHyTITS",
        "outputId": "2d27f6c7-4c78-481a-92a7-848519266012",
        "colab": {
          "base_uri": "https://localhost:8080/"
        }
      },
      "outputs": [
        {
          "output_type": "execute_result",
          "data": {
            "text/plain": [
              "1.2246467991473532e-16"
            ]
          },
          "metadata": {},
          "execution_count": 5
        }
      ],
      "source": [
        "numpy.sin(numpy.pi)"
      ]
    },
    {
      "cell_type": "markdown",
      "metadata": {
        "ein.tags": "worksheet-0",
        "id": "Gt0Rjnx6TITS"
      },
      "source": [
        "The notation `e-16` above means $10^{-16}$; the number above is very very small (it’s a numerical approximation to the mathematical answer of zero)."
      ]
    },
    {
      "cell_type": "markdown",
      "metadata": {
        "ein.tags": "worksheet-0",
        "id": "sbUgsQHCTITT"
      },
      "source": [
        "We can generate a random number from a uniform distribution between 20 and 30. If you evaluate this several times it will generate a different random number each time."
      ]
    },
    {
      "cell_type": "code",
      "execution_count": null,
      "metadata": {
        "autoscroll": false,
        "ein.hycell": false,
        "ein.tags": "worksheet-0",
        "id": "8GPkYJL2TITT",
        "outputId": "70d6834b-06cf-4487-f485-6336cd462e31",
        "colab": {
          "base_uri": "https://localhost:8080/"
        }
      },
      "outputs": [
        {
          "output_type": "execute_result",
          "data": {
            "text/plain": [
              "27.022229137885553"
            ]
          },
          "metadata": {},
          "execution_count": 6
        }
      ],
      "source": [
        "numpy.random.uniform(20, 30)"
      ]
    },
    {
      "cell_type": "code",
      "execution_count": null,
      "metadata": {
        "autoscroll": false,
        "ein.hycell": false,
        "ein.tags": "worksheet-0",
        "id": "tXoZF_E6TITT",
        "outputId": "90ef293c-7a3b-43f9-de64-e6e42d91deef",
        "colab": {
          "base_uri": "https://localhost:8080/"
        }
      },
      "outputs": [
        {
          "output_type": "execute_result",
          "data": {
            "text/plain": [
              "25.261854070126805"
            ]
          },
          "metadata": {},
          "execution_count": 7
        }
      ],
      "source": [
        "numpy.random.uniform(20, 30)"
      ]
    },
    {
      "cell_type": "markdown",
      "metadata": {
        "ein.tags": "worksheet-0",
        "id": "ELyy6B7WTITT"
      },
      "source": [
        "We can generate an **array** of random numbers by passing a third argument to the `numpy.random.uniform` function, saying how many random numbers we want. We store the array in a *variable* named `obs`."
      ]
    },
    {
      "cell_type": "code",
      "execution_count": null,
      "metadata": {
        "autoscroll": false,
        "ein.hycell": false,
        "ein.tags": "worksheet-0",
        "id": "A5NPYo6sTITT",
        "outputId": "a964104e-d539-4029-cf2d-4e5f24bc896b",
        "colab": {
          "base_uri": "https://localhost:8080/"
        }
      },
      "outputs": [
        {
          "output_type": "execute_result",
          "data": {
            "text/plain": [
              "array([20.27652228, 29.66009427, 29.9078479 , 23.06272785, 28.43373025,\n",
              "       29.8991352 , 23.8239497 , 26.47207121, 28.14558468, 24.80539641])"
            ]
          },
          "metadata": {},
          "execution_count": 8
        }
      ],
      "source": [
        "obs = numpy.random.uniform(20, 30, 10)\n",
        "obs"
      ]
    },
    {
      "cell_type": "markdown",
      "metadata": {
        "ein.tags": "worksheet-0",
        "id": "JLg12SVRTITT"
      },
      "source": [
        "The builtin function `len` in Python tells us the length of an array or a list."
      ]
    },
    {
      "cell_type": "code",
      "execution_count": null,
      "metadata": {
        "autoscroll": false,
        "ein.hycell": false,
        "ein.tags": "worksheet-0",
        "id": "2eXQpSKxTITU",
        "outputId": "f432ef08-225f-41a2-f9ca-a537b40270f4",
        "colab": {
          "base_uri": "https://localhost:8080/"
        }
      },
      "outputs": [
        {
          "output_type": "execute_result",
          "data": {
            "text/plain": [
              "10"
            ]
          },
          "metadata": {},
          "execution_count": 9
        }
      ],
      "source": [
        "len(obs)"
      ]
    },
    {
      "cell_type": "markdown",
      "metadata": {
        "ein.tags": "worksheet-0",
        "id": "GMC3f0B6TITU"
      },
      "source": [
        "We can do arithmetic on arrays, adding them together or subtracting a constant from each element."
      ]
    },
    {
      "cell_type": "code",
      "execution_count": null,
      "metadata": {
        "autoscroll": false,
        "ein.hycell": false,
        "ein.tags": "worksheet-0",
        "id": "8soKM_TzTITU",
        "outputId": "e2856a0f-0c41-4341-b1aa-06375c3c2b9b",
        "colab": {
          "base_uri": "https://localhost:8080/"
        }
      },
      "outputs": [
        {
          "output_type": "execute_result",
          "data": {
            "text/plain": [
              "array([40.55304456, 59.32018854, 59.8156958 , 46.12545569, 56.86746049,\n",
              "       59.79827041, 47.6478994 , 52.94414242, 56.29116936, 49.61079283])"
            ]
          },
          "metadata": {},
          "execution_count": 10
        }
      ],
      "source": [
        "obs + obs"
      ]
    },
    {
      "cell_type": "code",
      "execution_count": null,
      "metadata": {
        "autoscroll": false,
        "ein.hycell": false,
        "ein.tags": "worksheet-0",
        "id": "YGqYlC-6TITU",
        "outputId": "ce266788-797b-49fd-ddf7-b6f674714af6",
        "colab": {
          "base_uri": "https://localhost:8080/"
        }
      },
      "outputs": [
        {
          "output_type": "execute_result",
          "data": {
            "text/plain": [
              "array([-4.72347772,  4.66009427,  4.9078479 , -1.93727215,  3.43373025,\n",
              "        4.8991352 , -1.1760503 ,  1.47207121,  3.14558468, -0.19460359])"
            ]
          },
          "metadata": {},
          "execution_count": 11
        }
      ],
      "source": [
        "obs - 25"
      ]
    },
    {
      "cell_type": "markdown",
      "metadata": {
        "id": "O8-hoC4pTITU"
      },
      "source": [
        "We can apply a numpy function to all the elements of an array. "
      ]
    },
    {
      "cell_type": "code",
      "execution_count": null,
      "metadata": {
        "id": "KzXVUO1iTITU",
        "outputId": "7e8d9475-dfc4-4f27-8eb9-ff772e0abb5d",
        "colab": {
          "base_uri": "https://localhost:8080/"
        }
      },
      "outputs": [
        {
          "output_type": "execute_result",
          "data": {
            "text/plain": [
              "array([4.50294596, 5.44610818, 5.46880681, 4.8023669 , 5.33232878,\n",
              "       5.46801017, 4.88097835, 5.14510167, 5.30524125, 4.98050162])"
            ]
          },
          "metadata": {},
          "execution_count": 12
        }
      ],
      "source": [
        "numpy.sqrt(obs)"
      ]
    },
    {
      "cell_type": "markdown",
      "metadata": {
        "ein.tags": "worksheet-0",
        "id": "YEK7Q0L-TITV"
      },
      "source": [
        "The array has *methods*, a kind of function that acts on the array."
      ]
    },
    {
      "cell_type": "code",
      "execution_count": null,
      "metadata": {
        "autoscroll": false,
        "ein.hycell": false,
        "ein.tags": "worksheet-0",
        "id": "b5hrPjlkTITV",
        "outputId": "9788cca9-35b7-4f5e-e5ea-0b110357d1d1",
        "colab": {
          "base_uri": "https://localhost:8080/"
        }
      },
      "outputs": [
        {
          "output_type": "execute_result",
          "data": {
            "text/plain": [
              "26.448705974453226"
            ]
          },
          "metadata": {},
          "execution_count": 13
        }
      ],
      "source": [
        "obs.mean()"
      ]
    },
    {
      "cell_type": "code",
      "execution_count": null,
      "metadata": {
        "autoscroll": false,
        "ein.hycell": false,
        "ein.tags": "worksheet-0",
        "id": "F8IdZrTUTITV",
        "outputId": "d75fec55-8e5a-4466-d1be-688c86e2d8dd",
        "colab": {
          "base_uri": "https://localhost:8080/"
        }
      },
      "outputs": [
        {
          "output_type": "execute_result",
          "data": {
            "text/plain": [
              "264.48705974453225"
            ]
          },
          "metadata": {},
          "execution_count": 14
        }
      ],
      "source": [
        "obs.sum()"
      ]
    },
    {
      "cell_type": "code",
      "execution_count": null,
      "metadata": {
        "autoscroll": false,
        "ein.hycell": false,
        "ein.tags": "worksheet-0",
        "id": "USL-6Kh9TITV",
        "outputId": "ebf6fb88-8116-4ce3-a930-cbafcd146803",
        "colab": {
          "base_uri": "https://localhost:8080/"
        }
      },
      "outputs": [
        {
          "output_type": "execute_result",
          "data": {
            "text/plain": [
              "20.276522277890415"
            ]
          },
          "metadata": {},
          "execution_count": 15
        }
      ],
      "source": [
        "obs.min()"
      ]
    },
    {
      "cell_type": "markdown",
      "metadata": {
        "ein.tags": "worksheet-0",
        "id": "8-OX5o2fTITW"
      },
      "source": [
        "# Simple plotting"
      ]
    },
    {
      "cell_type": "code",
      "execution_count": null,
      "metadata": {
        "autoscroll": false,
        "ein.hycell": false,
        "ein.tags": "worksheet-0",
        "id": "waEH_pgCTITW"
      },
      "outputs": [],
      "source": [
        "import matplotlib.pyplot as plt\n",
        "plt.style.use(\"bmh\")  # this affects the style (colors etc.) of plots"
      ]
    },
    {
      "cell_type": "code",
      "execution_count": null,
      "metadata": {
        "autoscroll": false,
        "ein.hycell": false,
        "ein.tags": "worksheet-0",
        "id": "tUlNZ7PPTITW",
        "outputId": "4652056f-0ca6-4b9a-a6c7-a34d0a4ccfb2",
        "colab": {
          "base_uri": "https://localhost:8080/",
          "height": 262
        }
      },
      "outputs": [
        {
          "output_type": "display_data",
          "data": {
            "text/plain": [
              "<Figure size 432x288 with 1 Axes>"
            ],
            "image/png": "[encoded data removed]"
          },
          "metadata": {
            "needs_background": "light"
          }
        }
      ],
      "source": [
        "X = numpy.random.uniform(20, 30, 10)\n",
        "Y = numpy.random.uniform(50, 100, 10)\n",
        "plt.scatter(X, Y);"
      ]
    },
    {
      "cell_type": "code",
      "execution_count": null,
      "metadata": {
        "autoscroll": false,
        "ein.hycell": false,
        "ein.tags": "worksheet-0",
        "id": "jh9IbY6BTITX",
        "outputId": "3d6bea35-6d33-4455-a9fe-598a3a790cdf",
        "colab": {
          "base_uri": "https://localhost:8080/",
          "height": 262
        }
      },
      "outputs": [
        {
          "output_type": "display_data",
          "data": {
            "text/plain": [
              "<Figure size 432x288 with 1 Axes>"
            ],
            "image/png": "[encoded data removed]"
          },
          "metadata": {
            "needs_background": "light"
          }
        }
      ],
      "source": [
        "x = numpy.linspace(-2, 10, 100)\n",
        "plt.plot(x, numpy.sin(x));"
      ]
    },
    {
      "cell_type": "markdown",
      "metadata": {
        "ein.tags": "worksheet-0",
        "id": "aHsRjw0vTITX"
      },
      "source": [
        "We can add two vectors together, assuming that all their dimensions are identical. Our array $x$ has one dimension of size 100. We can add another random vector of size 100 to it, containing numbers drawn from a uniform probability distribution between -0.1 and 0.1 (these represent some random “noise” which is added to our sine curve)."
      ]
    },
    {
      "cell_type": "code",
      "execution_count": null,
      "metadata": {
        "autoscroll": false,
        "ein.hycell": false,
        "ein.tags": "worksheet-0",
        "id": "mlUoAlOsTITX",
        "outputId": "29fd2641-f6da-4161-a1c6-2e74987f94d0",
        "colab": {
          "base_uri": "https://localhost:8080/",
          "height": 262
        }
      },
      "outputs": [
        {
          "output_type": "display_data",
          "data": {
            "text/plain": [
              "<Figure size 432x288 with 1 Axes>"
            ],
            "image/png": "[encoded data removed]"
          },
          "metadata": {
            "needs_background": "light"
          }
        }
      ],
      "source": [
        "x = numpy.linspace(0, 10, 100)\n",
        "obs = numpy.sin(x) + numpy.random.uniform(-0.1, 0.1, 100)\n",
        "plt.plot(x, obs);"
      ]
    },
    {
      "cell_type": "markdown",
      "metadata": {
        "ein.tags": "worksheet-0",
        "id": "rMut5rktTITX"
      },
      "source": [
        "The **central limit theorem** states that the sum of a number of independent random variables tends toward a normal distribution even if the original variables themselves are not normally distributed. We illustrate this result by examining the distribution of the sums of 1000 realizations of a uniformly distributed random variable, plotting the distribution as a histogram. "
      ]
    },
    {
      "cell_type": "code",
      "execution_count": null,
      "metadata": {
        "autoscroll": false,
        "ein.hycell": false,
        "ein.tags": "worksheet-0",
        "id": "1F26cOTJTITX",
        "outputId": "f936b4e9-000a-4f73-81f6-cefc5584cc5c",
        "colab": {
          "base_uri": "https://localhost:8080/",
          "height": 262
        }
      },
      "outputs": [
        {
          "output_type": "display_data",
          "data": {
            "text/plain": [
              "<Figure size 432x288 with 1 Axes>"
            ],
            "image/png": "[encoded data removed]"
          },
          "metadata": {
            "needs_background": "light"
          }
        }
      ],
      "source": [
        "N = 10_000\n",
        "sim = numpy.zeros(N)\n",
        "for i in range(N):\n",
        "    sim[i] = numpy.random.uniform(30, 40, 100).sum()\n",
        "plt.hist(sim, bins=40, alpha=0.5, density=True); "
      ]
    },
    {
      "cell_type": "markdown",
      "metadata": {
        "id": "cqSVTXshWki9"
      },
      "source": [
        "# Probability distributions"
      ]
    },
    {
      "cell_type": "code",
      "execution_count": null,
      "metadata": {
        "autoscroll": false,
        "ein.hycell": false,
        "ein.tags": "worksheet-0",
        "id": "rdZGgXDjWkjB"
      },
      "outputs": [],
      "source": [
        "import numpy\n",
        "import scipy.stats\n",
        "import matplotlib.pyplot as plt\n",
        "plt.style.use(\"bmh\")"
      ]
    },
    {
      "cell_type": "markdown",
      "metadata": {
        "ein.tags": "worksheet-0",
        "id": "OuG1VcJuWkjD"
      },
      "source": [
        "## Uniform distribution"
      ]
    },
    {
      "cell_type": "markdown",
      "metadata": {
        "ein.tags": "worksheet-0",
        "id": "xchlRC9hWkjD"
      },
      "source": [
        "Let’s generate 5 random variates from a continuous uniform distribution between 90 and 100 (the first argument to the `scipy.stats.uniform` function is the lower bound, and the second argument is the width). The object `u` will contain the “frozen distribution”."
      ]
    },
    {
      "cell_type": "code",
      "execution_count": null,
      "metadata": {
        "autoscroll": false,
        "ein.hycell": false,
        "ein.tags": "worksheet-0",
        "id": "3BN1pL3fWkjD",
        "outputId": "88616d59-6e97-48e5-ecb8-0bee8276f4ee",
        "colab": {
          "base_uri": "https://localhost:8080/"
        }
      },
      "outputs": [
        {
          "output_type": "execute_result",
          "data": {
            "text/plain": [
              "array([90.18933833, 96.39811551, 92.67806715, 91.00430901, 92.56185313])"
            ]
          },
          "metadata": {},
          "execution_count": 22
        }
      ],
      "source": [
        "u = scipy.stats.uniform(90, 10)\n",
        "u.rvs(5)"
      ]
    },
    {
      "cell_type": "markdown",
      "metadata": {
        "ein.tags": "worksheet-0",
        "id": "XeiBJo80WkjE"
      },
      "source": [
        "Let’s check that the expected value of the distribution is around 95."
      ]
    },
    {
      "cell_type": "code",
      "execution_count": null,
      "metadata": {
        "autoscroll": false,
        "ein.hycell": false,
        "ein.tags": "worksheet-0",
        "id": "FNpkRI4LWkjF",
        "outputId": "07828e10-7d9f-4280-f63a-a70765b364f0",
        "colab": {
          "base_uri": "https://localhost:8080/"
        }
      },
      "outputs": [
        {
          "output_type": "execute_result",
          "data": {
            "text/plain": [
              "94.84318414034254"
            ]
          },
          "metadata": {},
          "execution_count": 23
        }
      ],
      "source": [
        "u.rvs(1000).mean()"
      ]
    },
    {
      "cell_type": "markdown",
      "metadata": {
        "ein.tags": "worksheet-0",
        "id": "xArg1op-WkjF"
      },
      "source": [
        "Let’s check that around 20% of the variates are less than 92."
      ]
    },
    {
      "cell_type": "code",
      "execution_count": null,
      "metadata": {
        "autoscroll": false,
        "ein.hycell": false,
        "ein.tags": "worksheet-0",
        "id": "5h10eArGWkjG",
        "outputId": "5ae1541c-9a60-43c8-fda3-969116e8eb8a",
        "colab": {
          "base_uri": "https://localhost:8080/"
        }
      },
      "outputs": [
        {
          "output_type": "execute_result",
          "data": {
            "text/plain": [
              "0.203"
            ]
          },
          "metadata": {},
          "execution_count": 24
        }
      ],
      "source": [
        "(u.rvs(1000) < 92).sum() / 1000.0"
      ]
    },
    {
      "cell_type": "markdown",
      "metadata": {
        "ein.tags": "worksheet-0",
        "id": "htxy27cXWkjG"
      },
      "source": [
        "We can also use the `stats` module of the [SymPy](https://sympy.org/) library to obtain the same information using an analytical (rather than stochastic) method."
      ]
    },
    {
      "cell_type": "code",
      "execution_count": null,
      "metadata": {
        "autoscroll": false,
        "ein.hycell": false,
        "ein.tags": "worksheet-0",
        "id": "bVbp0lMGWkjH",
        "outputId": "c627b676-cb4d-4bee-f518-69d298f7c2ed",
        "colab": {
          "base_uri": "https://localhost:8080/"
        }
      },
      "outputs": [
        {
          "output_type": "stream",
          "name": "stderr",
          "text": [
            "/usr/local/lib/python3.7/dist-packages/sympy/stats/rv.py:1104: UserWarning: \n",
            "The return type of sample has been changed to return an iterator\n",
            "object since version 1.7. For more information see\n",
            "https://github.com/sympy/sympy/issues/19061\n",
            "  warnings.warn(filldedent(message))\n"
          ]
        },
        {
          "output_type": "execute_result",
          "data": {
            "text/plain": [
              "<generator object sample_iter.<locals>.return_generator_finite at 0x7fd83efbf850>"
            ]
          },
          "metadata": {},
          "execution_count": 25
        }
      ],
      "source": [
        "import sympy.stats\n",
        "\n",
        "u = sympy.Symbol(\"u\")\n",
        "u = sympy.stats.Uniform(u, 90, 100)\n",
        "# generate one random variate\n",
        "sympy.stats.sample(u)"
      ]
    },
    {
      "cell_type": "markdown",
      "metadata": {
        "ein.tags": "worksheet-0",
        "id": "LSYUsy0xWkjI"
      },
      "source": [
        "Check that the expected value (the mean of the distribution) is 95."
      ]
    },
    {
      "cell_type": "code",
      "execution_count": null,
      "metadata": {
        "autoscroll": false,
        "ein.hycell": false,
        "ein.tags": "worksheet-0",
        "id": "qkyw0RrIWkjJ",
        "outputId": "d3327752-fca1-40a9-fb44-48587d065967",
        "colab": {
          "base_uri": "https://localhost:8080/",
          "height": 37
        }
      },
      "outputs": [
        {
          "output_type": "execute_result",
          "data": {
            "text/plain": [
              "95"
            ],
            "text/latex": "$\\displaystyle 95$"
          },
          "metadata": {},
          "execution_count": 26
        }
      ],
      "source": [
        "sympy.stats.E(u)"
      ]
    },
    {
      "cell_type": "markdown",
      "metadata": {
        "ein.tags": "worksheet-0",
        "id": "Yj1-fHKGWkjJ"
      },
      "source": [
        "The probability of a random variate being less than 92:"
      ]
    },
    {
      "cell_type": "code",
      "execution_count": null,
      "metadata": {
        "autoscroll": false,
        "ein.hycell": false,
        "ein.tags": "worksheet-0",
        "id": "1whTTdp5WkjK",
        "outputId": "bf1e99bc-20bb-489f-daef-782bb6eeebbb",
        "colab": {
          "base_uri": "https://localhost:8080/",
          "height": 51
        }
      },
      "outputs": [
        {
          "output_type": "execute_result",
          "data": {
            "text/plain": [
              "1/5"
            ],
            "text/latex": "$\\displaystyle \\frac{1}{5}$"
          },
          "metadata": {},
          "execution_count": 27
        }
      ],
      "source": [
        "sympy.stats.P(u < 92)"
      ]
    },
    {
      "cell_type": "markdown",
      "metadata": {
        "ein.tags": "worksheet-0",
        "id": "BjsnQ9gYWkjL"
      },
      "source": [
        "## Gaussian distribution"
      ]
    },
    {
      "cell_type": "markdown",
      "metadata": {
        "ein.tags": "worksheet-0",
        "id": "5s_5xR27WkjL"
      },
      "source": [
        "Consider a Gaussian (normal) distribution centered in 5, with a standard deviation of 1."
      ]
    },
    {
      "cell_type": "code",
      "execution_count": null,
      "metadata": {
        "autoscroll": false,
        "ein.hycell": false,
        "ein.tags": "worksheet-0",
        "id": "71X9FtgqWkjL",
        "outputId": "ed5d03b2-0b32-4858-ad87-fa29fc88e576",
        "colab": {
          "base_uri": "https://localhost:8080/",
          "height": 262
        }
      },
      "outputs": [
        {
          "output_type": "display_data",
          "data": {
            "text/plain": [
              "<Figure size 432x288 with 1 Axes>"
            ],
            "image/png": "[encoded data removed]"
          },
          "metadata": {
            "needs_background": "light"
          }
        }
      ],
      "source": [
        "norm = scipy.stats.norm(5, 1)\n",
        "x = numpy.linspace(1, 9, 100)\n",
        "plt.plot(x, norm.pdf(x));"
      ]
    },
    {
      "cell_type": "code",
      "execution_count": null,
      "metadata": {
        "id": "qw-W2fZEWkjM",
        "outputId": "cab0014d-b6f8-4f40-c3f5-1a236fcd979f",
        "colab": {
          "base_uri": "https://localhost:8080/"
        }
      },
      "outputs": [
        {
          "output_type": "execute_result",
          "data": {
            "text/plain": [
              "5.0"
            ]
          },
          "metadata": {},
          "execution_count": 29
        }
      ],
      "source": [
        "norm.mean()"
      ]
    },
    {
      "cell_type": "markdown",
      "metadata": {
        "ein.tags": "worksheet-0",
        "id": "DprqAZgyWkjM"
      },
      "source": [
        "Check that half the distribution is located to the left of 5."
      ]
    },
    {
      "cell_type": "code",
      "execution_count": null,
      "metadata": {
        "autoscroll": false,
        "ein.hycell": false,
        "ein.tags": "worksheet-0",
        "id": "zmn48n5QWkjN",
        "outputId": "c0a273e2-7df8-41e1-f669-3cfb97035802",
        "colab": {
          "base_uri": "https://localhost:8080/"
        }
      },
      "outputs": [
        {
          "output_type": "execute_result",
          "data": {
            "text/plain": [
              "0.5"
            ]
          },
          "metadata": {},
          "execution_count": 30
        }
      ],
      "source": [
        "norm.cdf(5)"
      ]
    },
    {
      "cell_type": "code",
      "execution_count": null,
      "metadata": {
        "autoscroll": false,
        "ein.hycell": false,
        "ein.tags": "worksheet-0",
        "id": "ZhQsA3xsWkjN",
        "outputId": "abd9db52-67aa-408e-a622-65a732bfc9de",
        "colab": {
          "base_uri": "https://localhost:8080/"
        }
      },
      "outputs": [
        {
          "output_type": "execute_result",
          "data": {
            "text/plain": [
              "5.0"
            ]
          },
          "metadata": {},
          "execution_count": 31
        }
      ],
      "source": [
        "norm.ppf(0.5)"
      ]
    },
    {
      "cell_type": "markdown",
      "metadata": {
        "ein.tags": "worksheet-0",
        "id": "8TBRqjZlWkjO"
      },
      "source": [
        "Find the first percentile of the distribution (the value of $x$ which has 1% of realizations to the left). Check that it is also equal to the 99% survival quantile."
      ]
    },
    {
      "cell_type": "code",
      "execution_count": null,
      "metadata": {
        "autoscroll": false,
        "ein.hycell": false,
        "ein.tags": "worksheet-0",
        "id": "cZl6Q6iDWkjO",
        "outputId": "99ceafcb-e1e1-432d-bf26-ad609d0e350a",
        "colab": {
          "base_uri": "https://localhost:8080/"
        }
      },
      "outputs": [
        {
          "output_type": "execute_result",
          "data": {
            "text/plain": [
              "2.6736521259591592"
            ]
          },
          "metadata": {},
          "execution_count": 32
        }
      ],
      "source": [
        "norm.ppf(0.01)"
      ]
    },
    {
      "cell_type": "code",
      "execution_count": null,
      "metadata": {
        "autoscroll": false,
        "ein.hycell": false,
        "ein.tags": "worksheet-0",
        "id": "drK7ygMKWkjO",
        "outputId": "165b84be-7a25-4f0a-8724-0b6ae1a887d0",
        "colab": {
          "base_uri": "https://localhost:8080/"
        }
      },
      "outputs": [
        {
          "output_type": "execute_result",
          "data": {
            "text/plain": [
              "2.6736521259591592"
            ]
          },
          "metadata": {},
          "execution_count": 33
        }
      ],
      "source": [
        "norm.isf(0.99)"
      ]
    },
    {
      "cell_type": "code",
      "execution_count": null,
      "metadata": {
        "autoscroll": false,
        "ein.hycell": false,
        "ein.tags": "worksheet-0",
        "id": "3TShD-TgWkjP",
        "outputId": "beb7524d-c2e4-4dbe-ef4f-30767b562190",
        "colab": {
          "base_uri": "https://localhost:8080/"
        }
      },
      "outputs": [
        {
          "output_type": "execute_result",
          "data": {
            "text/plain": [
              "0.01"
            ]
          },
          "metadata": {},
          "execution_count": 34
        }
      ],
      "source": [
        "norm.cdf(norm.isf(0.99))"
      ]
    },
    {
      "cell_type": "markdown",
      "metadata": {
        "ein.tags": "worksheet-0",
        "id": "rI5o-1YLWkjS"
      },
      "source": [
        "## Central limit theorem"
      ]
    },
    {
      "cell_type": "markdown",
      "metadata": {
        "ein.tags": "worksheet-0",
        "id": "Si8aYJoAWkjS"
      },
      "source": [
        "The central limit theorem states that the mean of a set of random measurements will tend to a normal distribution, no matter the shape of the original measurement distribution. The property is also true of the sum of a set of random measurements. Let's test that in Python, simulating measurements from a uniform distribution between 30 and 40.\n",
        "\n",
        "Procedure: take 100 measurements from the $U(30, 40)$ distribution, and calculate their mean. Repeat this 10000 times and plot a histogram of the means, which should be normally distributed."
      ]
    },
    {
      "cell_type": "code",
      "execution_count": null,
      "metadata": {
        "autoscroll": false,
        "ein.hycell": false,
        "ein.tags": "worksheet-0",
        "id": "-dfBzsqPWkjS",
        "outputId": "336bb385-33bd-4e5b-fab1-97f12ffd2481",
        "colab": {
          "base_uri": "https://localhost:8080/"
        }
      },
      "outputs": [
        {
          "output_type": "display_data",
          "data": {
            "text/plain": [
              "<Figure size 432x288 with 1 Axes>"
            ],
            "image/png": "[encoded data removed]"
          },
          "metadata": {
            "needs_background": "light"
          }
        }
      ],
      "source": [
        "N = 10000\n",
        "sim = numpy.zeros(N)\n",
        "for i in range(N):\n",
        "    sim[i] = numpy.random.uniform(30, 40, 100).mean()\n",
        "plt.hist(sim, bins=20, alpha=0.5, density=True);"
      ]
    },
    {
      "cell_type": "markdown",
      "metadata": {
        "ein.tags": "worksheet-0",
        "id": "wCkm8FPtWkjU"
      },
      "source": [
        "## Exponential distribution"
      ]
    },
    {
      "cell_type": "markdown",
      "metadata": {
        "ein.tags": "worksheet-0",
        "id": "egkP24fxWkjU"
      },
      "source": [
        "The exponential distribution is often used in reliability engineering to represent failure of equipment which is not exposed to wear. The **hazard function**, or failure rate, of the exponential distribution is constant, equal to $\\lambda$. Let's check the property that the expected value (or mean) of an exponential random variable is $\\frac{1}{\\lambda}$."
      ]
    },
    {
      "cell_type": "code",
      "execution_count": null,
      "metadata": {
        "autoscroll": false,
        "ein.hycell": false,
        "ein.tags": "worksheet-0",
        "id": "zg3M7QWgWkjV",
        "outputId": "d88987fa-617a-4660-ea50-f33cd29562f5",
        "colab": {
          "base_uri": "https://localhost:8080/"
        }
      },
      "outputs": [
        {
          "output_type": "execute_result",
          "data": {
            "text/plain": [
              "0.0394926737065791"
            ]
          },
          "metadata": {},
          "execution_count": 36
        }
      ],
      "source": [
        "lbda = 25\n",
        "obs = scipy.stats.expon(scale=1/float(lbda)).rvs(size=1000)\n",
        "# the mean of 1000 random variates from the exponential distribution \n",
        "obs.mean()"
      ]
    },
    {
      "cell_type": "code",
      "execution_count": null,
      "metadata": {
        "autoscroll": false,
        "ein.hycell": false,
        "ein.tags": "worksheet-0",
        "id": "vqAS_YukWkjV",
        "outputId": "e0471a12-5911-4581-d4e9-73b945854c9e",
        "colab": {
          "base_uri": "https://localhost:8080/"
        }
      },
      "outputs": [
        {
          "output_type": "execute_result",
          "data": {
            "text/plain": [
              "0.04"
            ]
          },
          "metadata": {},
          "execution_count": 37
        }
      ],
      "source": [
        "1/float(lbda)"
      ]
    },
    {
      "cell_type": "markdown",
      "metadata": {
        "ein.tags": "worksheet-0",
        "id": "ZNBpcXwgWkjV"
      },
      "source": [
        "Indeed, those are quite close! Let’s check another property of the exponential distribution: that the variance is equal to $\\lambda^{-2}$."
      ]
    },
    {
      "cell_type": "code",
      "execution_count": null,
      "metadata": {
        "autoscroll": false,
        "ein.hycell": false,
        "ein.tags": "worksheet-0",
        "id": "0lzSd0TIWkjV",
        "outputId": "7d827d22-0b82-4479-d068-45872d20013c",
        "colab": {
          "base_uri": "https://localhost:8080/"
        }
      },
      "outputs": [
        {
          "output_type": "execute_result",
          "data": {
            "text/plain": [
              "0.0016016785671768984"
            ]
          },
          "metadata": {},
          "execution_count": 38
        }
      ],
      "source": [
        "obs.var()"
      ]
    },
    {
      "cell_type": "code",
      "execution_count": null,
      "metadata": {
        "autoscroll": false,
        "ein.hycell": false,
        "ein.tags": "worksheet-0",
        "id": "q593s7U1WkjW",
        "outputId": "e672482f-ecb5-45ce-a764-ed322a872e54",
        "colab": {
          "base_uri": "https://localhost:8080/"
        }
      },
      "outputs": [
        {
          "output_type": "execute_result",
          "data": {
            "text/plain": [
              "0.0016"
            ]
          },
          "metadata": {},
          "execution_count": 39
        }
      ],
      "source": [
        "1/float(lbda)**2"
      ]
    },
    {
      "cell_type": "markdown",
      "metadata": {
        "ein.tags": "worksheet-0",
        "id": "2sVTg-8DWkjW"
      },
      "source": [
        "And of course since the standard deviation is the square root of the variance, it should be equal to the expected value."
      ]
    },
    {
      "cell_type": "code",
      "execution_count": null,
      "metadata": {
        "autoscroll": false,
        "ein.hycell": false,
        "ein.tags": "worksheet-0",
        "id": "oEGHmNG9WkjW",
        "outputId": "17b89b8f-b17e-4b84-e9d3-048227fd6362",
        "colab": {
          "base_uri": "https://localhost:8080/"
        }
      },
      "outputs": [
        {
          "output_type": "execute_result",
          "data": {
            "text/plain": [
              "0.0400209765894949"
            ]
          },
          "metadata": {},
          "execution_count": 40
        }
      ],
      "source": [
        "obs.std()"
      ]
    },
    {
      "cell_type": "markdown",
      "metadata": {
        "ein.tags": "worksheet-0",
        "id": "hOwkamIIWkjW"
      },
      "source": [
        "As previously, we can also check these properties analytically, using the SymPy symbolic mathematics library, starting with the expected value:"
      ]
    },
    {
      "cell_type": "code",
      "execution_count": null,
      "metadata": {
        "autoscroll": false,
        "ein.hycell": false,
        "ein.tags": "worksheet-0",
        "id": "YD4v6dblWkjW",
        "outputId": "43979814-e25e-46c7-c332-962d2b26b8a1",
        "colab": {
          "base_uri": "https://localhost:8080/",
          "height": 51
        }
      },
      "outputs": [
        {
          "output_type": "execute_result",
          "data": {
            "text/plain": [
              "1/25"
            ],
            "text/latex": "$\\displaystyle \\frac{1}{25}$"
          },
          "metadata": {},
          "execution_count": 41
        }
      ],
      "source": [
        "exp = sympy.Symbol(\"exp\")\n",
        "exp = sympy.stats.Exponential(exp, lbda)\n",
        "sympy.stats.E(exp)"
      ]
    },
    {
      "cell_type": "code",
      "execution_count": null,
      "metadata": {
        "autoscroll": false,
        "ein.hycell": false,
        "ein.tags": "worksheet-0",
        "id": "fc_CPXr9WkjW",
        "outputId": "8e187550-fcb9-4d8e-ddef-dfdd54ac25f0",
        "colab": {
          "base_uri": "https://localhost:8080/",
          "height": 37
        }
      },
      "outputs": [
        {
          "output_type": "execute_result",
          "data": {
            "text/plain": [
              "0"
            ],
            "text/latex": "$\\displaystyle 0$"
          },
          "metadata": {},
          "execution_count": 42
        }
      ],
      "source": [
        "# now check that the variance is lambda ^ -2\n",
        "sympy.stats.variance(exp) - lbda**-2"
      ]
    },
    {
      "cell_type": "code",
      "execution_count": null,
      "metadata": {
        "autoscroll": false,
        "ein.hycell": false,
        "ein.tags": "worksheet-0",
        "id": "iSgOn_uEWkjW",
        "outputId": "4049f2f7-acb8-420e-e541-c90602c18a27",
        "colab": {
          "base_uri": "https://localhost:8080/",
          "height": 37
        }
      },
      "outputs": [
        {
          "output_type": "execute_result",
          "data": {
            "text/plain": [
              "0"
            ],
            "text/latex": "$\\displaystyle 0$"
          },
          "metadata": {},
          "execution_count": 43
        }
      ],
      "source": [
        "# check that the standard deviation is equal to the expectation\n",
        "sympy.stats.std(exp) - sympy.stats.E(exp)"
      ]
    },
    {
      "cell_type": "markdown",
      "metadata": {
        "id": "en8F64rmWfsJ"
      },
      "source": [
        "# Coins and dice"
      ]
    },
    {
      "cell_type": "code",
      "execution_count": null,
      "metadata": {
        "id": "AEQKirxyWfsN"
      },
      "outputs": [],
      "source": [
        "%matplotlib inline\n",
        "\n",
        "import numpy\n",
        "import scipy.stats\n",
        "import matplotlib.pyplot as plt\n",
        "plt.style.use(\"bmh\")\n",
        "numpy.set_printoptions(threshold=20)"
      ]
    },
    {
      "cell_type": "markdown",
      "metadata": {
        "id": "3ZWucVmyWfsO"
      },
      "source": [
        "When undertaking statistical analyses, it can be important for your results to be *reproducible*, meaning that you obtain the same results each time you run the analysis. The pseudorandom number generator used by NumPy generates long sequences of outputs that are fully determined by the *seed* of the generator (if you use the same seed, you will obtain the same results each time you run the notebook). In default setting, the seed is taken from some unpredictable feature of the computer environment (such as the `/dev/random` device on a Linux/Unix computer), so sucessive runs will generate different results. If you want a reproducible notebook, you can set the random seed explicitly. "
      ]
    },
    {
      "cell_type": "markdown",
      "source": [
        "## Coin Toss Experiment"
      ],
      "metadata": {
        "id": "xOvwxMCe2QLN"
      }
    },
    {
      "cell_type": "code",
      "execution_count": null,
      "metadata": {
        "id": "WNLLycpsWfsP"
      },
      "outputs": [],
      "source": [
        "numpy.random.seed(42)"
      ]
    },
    {
      "cell_type": "markdown",
      "metadata": {
        "id": "1xBchwBTWfsP"
      },
      "source": [
        "Let’s **simulate a coin toss** by a random choice between the numbers 0 and 1 (say 0 represents tails and 1 represents heads). Note that the second argument to `randint` is an *exclusive* upper bound."
      ]
    },
    {
      "cell_type": "code",
      "execution_count": null,
      "metadata": {
        "id": "rWlGGRcPWfsQ",
        "outputId": "383b4a91-739e-4df9-dcba-ed4d7a6e2cbc",
        "colab": {
          "base_uri": "https://localhost:8080/"
        }
      },
      "outputs": [
        {
          "output_type": "execute_result",
          "data": {
            "text/plain": [
              "0"
            ]
          },
          "metadata": {},
          "execution_count": 46
        }
      ],
      "source": [
        "numpy.random.randint(0, 2)"
      ]
    },
    {
      "cell_type": "markdown",
      "metadata": {
        "id": "oIoSznIMWfsR"
      },
      "source": [
        "Let’s toss two coins, which gives as an array with the result of the first and second toss."
      ]
    },
    {
      "cell_type": "code",
      "execution_count": null,
      "metadata": {
        "id": "K-SEowjYWfsR",
        "outputId": "1da470da-68f3-458f-ac5e-7c184126a282",
        "colab": {
          "base_uri": "https://localhost:8080/"
        }
      },
      "outputs": [
        {
          "output_type": "execute_result",
          "data": {
            "text/plain": [
              "array([1, 0])"
            ]
          },
          "metadata": {},
          "execution_count": 47
        }
      ],
      "source": [
        "numpy.random.randint(0, 2, 2)"
      ]
    },
    {
      "cell_type": "markdown",
      "metadata": {
        "id": "0vmpHLRUWfsS"
      },
      "source": [
        "The number of heads when tossing a coin twice is simply the sum of that array."
      ]
    },
    {
      "cell_type": "code",
      "execution_count": null,
      "metadata": {
        "id": "ePfq4RiHWfsS",
        "outputId": "d8f4e8d1-6a26-4785-c909-c8cd7158c774",
        "colab": {
          "base_uri": "https://localhost:8080/"
        }
      },
      "outputs": [
        {
          "output_type": "execute_result",
          "data": {
            "text/plain": [
              "0"
            ]
          },
          "metadata": {},
          "execution_count": 48
        }
      ],
      "source": [
        "numpy.random.randint(0, 2, 2).sum()"
      ]
    },
    {
      "cell_type": "markdown",
      "metadata": {
        "id": "waHX3wHwWfsS"
      },
      "source": [
        "**Task**: simulate the *number of heads when tossing a coin twice*. Do this 1000 times, calculate the expected value of the number of heads, and plot the distribution of results (the Probability Mass Function)."
      ]
    },
    {
      "cell_type": "code",
      "execution_count": null,
      "metadata": {
        "id": "r5lojaDcWfsS",
        "outputId": "da94995a-170f-4d12-ce7a-ca56cd13315c",
        "colab": {
          "base_uri": "https://localhost:8080/"
        }
      },
      "outputs": [
        {
          "output_type": "execute_result",
          "data": {
            "text/plain": [
              "array([1, 0, 1, ..., 0, 2, 2])"
            ]
          },
          "metadata": {},
          "execution_count": 49
        }
      ],
      "source": [
        "N = 1000\n",
        "heads = numpy.zeros(N, dtype=int)\n",
        "for i in range(N):\n",
        "    heads[i] = numpy.random.randint(0, 2, 2).sum()\n",
        "heads"
      ]
    },
    {
      "cell_type": "markdown",
      "metadata": {
        "id": "HZMmeTF0WfsT"
      },
      "source": [
        "The **expected value** (or mathematical expectation) of the number of heads is simply the mean of our observations (it’s what happens “on average”). "
      ]
    },
    {
      "cell_type": "code",
      "execution_count": null,
      "metadata": {
        "id": "lNl6seLvWfsT",
        "outputId": "f1666493-9140-4e3a-b7f3-91eaebbb4cf1",
        "colab": {
          "base_uri": "https://localhost:8080/"
        }
      },
      "outputs": [
        {
          "output_type": "execute_result",
          "data": {
            "text/plain": [
              "0.987"
            ]
          },
          "metadata": {},
          "execution_count": 50
        }
      ],
      "source": [
        "heads.mean()"
      ]
    },
    {
      "cell_type": "markdown",
      "metadata": {
        "id": "yzxXk0pqWfsT"
      },
      "source": [
        "Now let’s look at the **distribution** of the number of heads obtained. Let’s count how many times we have scored 0, 1 or 2 in our 1000 simulations, using the `unique` function from `numpy`, then plot that probability mass function. "
      ]
    },
    {
      "cell_type": "code",
      "execution_count": null,
      "metadata": {
        "id": "yeg653PaWfsT",
        "outputId": "9f51fb69-755e-4ce1-de88-fc4e52659b76",
        "colab": {
          "base_uri": "https://localhost:8080/"
        }
      },
      "outputs": [
        {
          "output_type": "display_data",
          "data": {
            "text/plain": [
              "<Figure size 432x288 with 1 Axes>"
            ],
            "image/png": "[encoded data removed]"
          },
          "metadata": {
            "needs_background": "light"
          }
        }
      ],
      "source": [
        "values, counts = numpy.unique(heads, return_counts=True)\n",
        "plt.stem(values, counts, use_line_collection=True)\n",
        "plt.show()"
      ]
    },
    {
      "cell_type": "markdown",
      "metadata": {
        "id": "NVYXFg0VWfsU"
      },
      "source": [
        "## Expected value of a dice roll"
      ]
    },
    {
      "cell_type": "markdown",
      "metadata": {
        "id": "qiSz0s0fWfsV"
      },
      "source": [
        "The expected value of a dice roll is \n",
        "\n",
        "$$\\sum_{i=1}^6 i \\times \\frac{1}{6} = 3.5$$\n",
        "\n",
        "That means that if we toss a dice a large number of times, the mean value should converge to 3.5. Let’s check that empirically by running a simulation in Python."
      ]
    },
    {
      "cell_type": "code",
      "execution_count": null,
      "metadata": {
        "id": "iX-tG9P0WfsV",
        "outputId": "06e9545f-d0ff-4efd-ba2c-7466992f6aae",
        "colab": {
          "base_uri": "https://localhost:8080/"
        }
      },
      "outputs": [
        {
          "output_type": "display_data",
          "data": {
            "text/plain": [
              "<Figure size 432x288 with 1 Axes>"
            ],
            "image/png": "[encoded data removed]"
          },
          "metadata": {
            "needs_background": "light"
          }
        }
      ],
      "source": [
        "N = 1000\n",
        "roll = numpy.zeros(N, dtype=int)\n",
        "expectation = numpy.zeros(N)\n",
        "for i in range(N):\n",
        "    roll[i] = numpy.random.randint(1, 7)\n",
        "for i in range(1, N):\n",
        "    expectation[i] = numpy.mean(roll[0:i])\n",
        "plt.plot(expectation)\n",
        "plt.title(\"Expectation of a dice roll\")\n",
        "plt.show()"
      ]
    },
    {
      "cell_type": "markdown",
      "metadata": {
        "id": "dbUvp-BtWfsV"
      },
      "source": [
        "The sympy.stats module has functionality that allows us to evaluate the expected value analytically. "
      ]
    },
    {
      "cell_type": "code",
      "execution_count": null,
      "metadata": {
        "id": "-EAbO_tJWfsV",
        "outputId": "7379c6c6-9feb-4579-eb9a-9de521ab3d5d",
        "colab": {
          "base_uri": "https://localhost:8080/"
        }
      },
      "outputs": [
        {
          "output_type": "execute_result",
          "data": {
            "text/plain": [
              "7/2"
            ],
            "text/latex": "$\\displaystyle \\frac{7}{2}$"
          },
          "metadata": {},
          "execution_count": 53
        }
      ],
      "source": [
        "D = sympy.stats.Die(\"D\", 6)\n",
        "sympy.stats.E(D)"
      ]
    },
    {
      "cell_type": "markdown",
      "metadata": {
        "id": "mp5XR2GGWfsW"
      },
      "source": [
        "## Simulating dice throws"
      ]
    },
    {
      "cell_type": "code",
      "execution_count": null,
      "metadata": {
        "id": "eth8t1K0WfsW",
        "outputId": "433e7ef2-1aae-4aeb-c624-971a1d2c28d8",
        "colab": {
          "base_uri": "https://localhost:8080/"
        }
      },
      "outputs": [
        {
          "output_type": "execute_result",
          "data": {
            "text/plain": [
              "6"
            ]
          },
          "metadata": {},
          "execution_count": 54
        }
      ],
      "source": [
        "dice = scipy.stats.randint(1, 7)\n",
        "dice.rvs(1000).max()"
      ]
    },
    {
      "cell_type": "markdown",
      "metadata": {
        "id": "SF-jtHL4WfsW"
      },
      "source": [
        "We simulated a thousand dice throws, and never rolled anything bigger than a 6 (that’s reassuring!)."
      ]
    },
    {
      "cell_type": "markdown",
      "metadata": {
        "id": "Tawb8uXXWfsW"
      },
      "source": [
        "What is the probability of a die rolling 4?"
      ]
    },
    {
      "cell_type": "code",
      "execution_count": null,
      "metadata": {
        "id": "qnSJK5ifWfsW",
        "outputId": "eb23ae4e-bdd9-43a6-ecda-3424ab7f63d6",
        "colab": {
          "base_uri": "https://localhost:8080/"
        }
      },
      "outputs": [
        {
          "output_type": "execute_result",
          "data": {
            "text/plain": [
              "0.16666666666666666"
            ]
          },
          "metadata": {},
          "execution_count": 55
        }
      ],
      "source": [
        "dice.pmf(4)"
      ]
    },
    {
      "cell_type": "markdown",
      "metadata": {
        "id": "YMjLcUh-WfsW"
      },
      "source": [
        "What is the probability of rolling 4 or below?"
      ]
    },
    {
      "cell_type": "code",
      "execution_count": null,
      "metadata": {
        "id": "Spe485_JWfsW",
        "outputId": "c99c638d-759d-49bc-855d-2450618b3567",
        "colab": {
          "base_uri": "https://localhost:8080/"
        }
      },
      "outputs": [
        {
          "output_type": "execute_result",
          "data": {
            "text/plain": [
              "0.6666666666666666"
            ]
          },
          "metadata": {},
          "execution_count": 56
        }
      ],
      "source": [
        "dice.cdf(4)"
      ]
    },
    {
      "cell_type": "markdown",
      "metadata": {
        "id": "Q1TaQajlWfsW"
      },
      "source": [
        "What is the probability of rolling between 2 and 4 (inclusive)?"
      ]
    },
    {
      "cell_type": "code",
      "execution_count": null,
      "metadata": {
        "id": "cPuQ1flCWfsX",
        "outputId": "718095d9-2dd7-4cde-fdb0-6d03ed20cbbe",
        "colab": {
          "base_uri": "https://localhost:8080/"
        }
      },
      "outputs": [
        {
          "output_type": "execute_result",
          "data": {
            "text/plain": [
              "0.5"
            ]
          },
          "metadata": {},
          "execution_count": 57
        }
      ],
      "source": [
        "dice.cdf(4) - dice.cdf(1)"
      ]
    },
    {
      "cell_type": "markdown",
      "metadata": {
        "id": "5kYvyl3gWfsX"
      },
      "source": [
        "Again, using `sympy.stats` to calculate this analytically:"
      ]
    },
    {
      "cell_type": "markdown",
      "metadata": {
        "id": "8rsRGuaYWfsX"
      },
      "source": [
        "The probability of a dice roll of 4:"
      ]
    },
    {
      "cell_type": "code",
      "execution_count": null,
      "metadata": {
        "id": "AwIbWo7JWfsX",
        "outputId": "6cc3dba2-de88-438b-9daf-e9656cdf05cc",
        "colab": {
          "base_uri": "https://localhost:8080/",
          "height": 51
        }
      },
      "outputs": [
        {
          "output_type": "execute_result",
          "data": {
            "text/plain": [
              "1/6"
            ],
            "text/latex": "$\\displaystyle \\frac{1}{6}$"
          },
          "metadata": {},
          "execution_count": 58
        }
      ],
      "source": [
        "sympy.stats.P(sympy.Eq(D, 4))"
      ]
    },
    {
      "cell_type": "markdown",
      "metadata": {
        "id": "lDCdJYyfWfsX"
      },
      "source": [
        "Probability of rolling 4 or below:"
      ]
    },
    {
      "cell_type": "code",
      "execution_count": null,
      "metadata": {
        "id": "lvgZ8KTGWfsX",
        "outputId": "399e5295-4007-4dd6-ba56-170922ea0c52",
        "colab": {
          "base_uri": "https://localhost:8080/",
          "height": 51
        }
      },
      "outputs": [
        {
          "output_type": "execute_result",
          "data": {
            "text/plain": [
              "2/3"
            ],
            "text/latex": "$\\displaystyle \\frac{2}{3}$"
          },
          "metadata": {},
          "execution_count": 59
        }
      ],
      "source": [
        "sympy.stats.P(D <= 4)"
      ]
    },
    {
      "cell_type": "markdown",
      "metadata": {
        "id": "SKzfcNvKWfsY"
      },
      "source": [
        "Probability of rolling between 2 and 4 (inclusive):"
      ]
    },
    {
      "cell_type": "code",
      "execution_count": null,
      "metadata": {
        "id": "6Xw3qDGNWfsZ",
        "outputId": "6b8501d1-97e0-4e0d-cf8c-84f5662975fb",
        "colab": {
          "base_uri": "https://localhost:8080/",
          "height": 51
        }
      },
      "outputs": [
        {
          "output_type": "execute_result",
          "data": {
            "text/plain": [
              "1/2"
            ],
            "text/latex": "$\\displaystyle \\frac{1}{2}$"
          },
          "metadata": {},
          "execution_count": 60
        }
      ],
      "source": [
        "sympy.stats.P(sympy.And(D >= 2, D <= 4))"
      ]
    },
    {
      "cell_type": "markdown",
      "metadata": {
        "id": "KJvDAYIFWfsZ"
      },
      "source": [
        "Now let’s look at what happens when we roll **three dice**. We’ll estimate the expected value and the probability mass function for the sum of three dice.  "
      ]
    },
    {
      "cell_type": "code",
      "execution_count": null,
      "metadata": {
        "id": "vnkJMqQpWfsZ",
        "outputId": "41e113b3-45f7-4c97-b6c0-0ad32c4fff3e",
        "colab": {
          "base_uri": "https://localhost:8080/"
        }
      },
      "outputs": [
        {
          "output_type": "execute_result",
          "data": {
            "text/plain": [
              "10.5018"
            ]
          },
          "metadata": {},
          "execution_count": 61
        }
      ],
      "source": [
        "N = 10_000\n",
        "roll = numpy.zeros(N, dtype=int)\n",
        "for i in range(N):\n",
        "    roll[i] = scipy.stats.randint(1, 7).rvs(3).sum()\n",
        "roll.mean()"
      ]
    },
    {
      "cell_type": "markdown",
      "metadata": {
        "id": "vQwun5AMWfsZ"
      },
      "source": [
        "We can plot the probability mass function for the sum of three dice:"
      ]
    },
    {
      "cell_type": "code",
      "execution_count": null,
      "metadata": {
        "id": "nuG9OjGbWfsa",
        "outputId": "23703cd0-d5e7-4cbe-9bb5-2bf2e10a8a0e",
        "colab": {
          "base_uri": "https://localhost:8080/",
          "height": 262
        }
      },
      "outputs": [
        {
          "output_type": "display_data",
          "data": {
            "text/plain": [
              "<Figure size 432x288 with 1 Axes>"
            ],
            "image/png": "[encoded data removed]"
          },
          "metadata": {
            "needs_background": "light"
          }
        }
      ],
      "source": [
        "values, counts = numpy.unique(roll, return_counts=True)\n",
        "plt.stem(values, counts, use_line_collection=True)\n",
        "plt.show()"
      ]
    },
    {
      "cell_type": "markdown",
      "metadata": {
        "id": "qnxYsz19Wfsa"
      },
      "source": [
        "## The last banana thought experiment"
      ]
    },
    {
      "cell_type": "markdown",
      "metadata": {
        "id": "8z3ds9RjWfsb"
      },
      "source": [
        "Consider the following [thought experiment in probability by Leonardo Barichello](https://ed.ted.com/lessons/the-last-banana-a-thought-experiment-in-probability-leonardo-barichello): Two people are stranded on an island with only one banana to eat. To decide who gets it, they agree to play a game. Each of them will roll a fair 6-sided dice. If the largest number rolled is a 1, 2, 3, or 4, then Player 1 gets the banana. If the largest number rolled is a 5 or 6, then Player 2 gets it. Which player has the better chance?"
      ]
    },
    {
      "cell_type": "markdown",
      "metadata": {
        "id": "vxsDZqvgWfsb"
      },
      "source": [
        "If we are not entirely convinced by our intuition concerning the banana, we can simulate this situation a large number of times, using a stochastic simulation (or Monte Carlo) approach:"
      ]
    },
    {
      "cell_type": "code",
      "execution_count": null,
      "metadata": {
        "id": "2-uUVuLlWfsb",
        "outputId": "9e08795e-7fd5-4d2f-cac4-6543e0fc426a",
        "colab": {
          "base_uri": "https://localhost:8080/"
        }
      },
      "outputs": [
        {
          "output_type": "execute_result",
          "data": {
            "text/plain": [
              "0.445"
            ]
          },
          "metadata": {},
          "execution_count": 64
        }
      ],
      "source": [
        "N = 1000\n",
        "player1 = 0\n",
        "for i in range(N):\n",
        "    # the second argument to randint is an exclusive upper bound\n",
        "    roll1 = scipy.stats.randint(1, 7).rvs(1)\n",
        "    roll2 = scipy.stats.randint(1, 7).rvs(1)\n",
        "    if max(roll1, roll2) <= 4:\n",
        "        player1 += 1\n",
        "player1 / float(N)"
      ]
    },
    {
      "cell_type": "markdown",
      "metadata": {
        "id": "UO9Si1qxWfsb"
      },
      "source": [
        "The situation is also easy to resolve analytically: Player 1 gets the banana when both the dice rolls are smaller than 5. The probability of a roll smaller than 5 is 4/6, the two dice rolls are independent events, so their combined probability is the product of their individual probabilities: Player 1 gets the banana with probability"
      ]
    },
    {
      "cell_type": "code",
      "execution_count": null,
      "metadata": {
        "id": "zUcmuqoSWfsb",
        "outputId": "93cff964-27fc-48f5-a5c8-88f987949801",
        "colab": {
          "base_uri": "https://localhost:8080/"
        }
      },
      "outputs": [
        {
          "output_type": "execute_result",
          "data": {
            "text/plain": [
              "0.4444444444444444"
            ]
          },
          "metadata": {},
          "execution_count": 65
        }
      ],
      "source": [
        "4/6 * 4/6"
      ]
    },
    {
      "cell_type": "markdown",
      "metadata": {
        "id": "xYwDeXwUWfsb"
      },
      "source": [
        "## The gambles of the Chevalier de Méré"
      ]
    },
    {
      "cell_type": "markdown",
      "metadata": {
        "id": "UqQcmnftWfsb"
      },
      "source": [
        "Let’s analyze two problems which were discussed between Antoine Gombaud, chevalier de Méré, a passionate gambler, and the mathematician Blaise Pascal. This discussion was a little daring for the time, because it went against established doctrine of the Catholic church that people should not attempt to predict the future (an activity that was reserved for the deity). The discussion and collaboration of Pascal with another mathematician, Pierre de Fermat, helped in the development of probability theory.\n",
        "\n",
        "The **first problem**: *is it a good idea to gamble on the appearance of at least one 6 when a dice is thrown 4 times*?\n",
        "\n",
        "The probability of losing this gamble is easy to calculate analytically: each throw has 5 chances out of 6 of not seeing a 6, and the events are independent. So the probability of winning is"
      ]
    },
    {
      "cell_type": "code",
      "execution_count": null,
      "metadata": {
        "id": "s12sZ7VVWfsb",
        "outputId": "675009ef-ae2f-4dd2-8c7f-0dba8a1dcbfb",
        "colab": {
          "base_uri": "https://localhost:8080/"
        }
      },
      "outputs": [
        {
          "output_type": "execute_result",
          "data": {
            "text/plain": [
              "0.5177469135802468"
            ]
          },
          "metadata": {},
          "execution_count": 66
        }
      ],
      "source": [
        "1 - (5/6.0)**4"
      ]
    },
    {
      "cell_type": "markdown",
      "metadata": {
        "id": "ombJ8yFEWfsb"
      },
      "source": [
        "The probability of winning is greater than 0.5. We can also check this problem with SymPy:"
      ]
    },
    {
      "cell_type": "code",
      "execution_count": null,
      "metadata": {
        "id": "8o7VA1oKWfsb",
        "outputId": "b5dd5660-3028-4799-c7ce-b394f675027e",
        "colab": {
          "base_uri": "https://localhost:8080/",
          "height": 37
        }
      },
      "outputs": [
        {
          "output_type": "execute_result",
          "data": {
            "text/plain": [
              "0.517746913580247"
            ],
            "text/latex": "$\\displaystyle 0.517746913580247$"
          },
          "metadata": {},
          "execution_count": 67
        }
      ],
      "source": [
        "import sympy.stats\n",
        "\n",
        "D1 = sympy.stats.Die(\"D1\", 6)\n",
        "D2 = sympy.stats.Die(\"D2\", 6)\n",
        "D3 = sympy.stats.Die(\"D3\", 6)\n",
        "D4 = sympy.stats.Die(\"D4\", 6)\n",
        "\n",
        "sympy.stats.P(sympy.Or(D1 > 5, sympy.Or(D2 > 5, sympy.Or(D3 > 5, D4 > 5)))) + 0.0"
      ]
    },
    {
      "cell_type": "markdown",
      "metadata": {
        "id": "3YButgQ6Wfsc"
      },
      "source": [
        "The **second problem**: *is it a good idea to gamble on the appearance of at least one double six when two dice are thrown 24 times*? \n",
        "\n",
        "The probability of losing this gamble is also easy to calculate: there are 35 chances out of 36 (6 * 6) of not seeing a double 6 on each double throw, so the probability of winning is"
      ]
    },
    {
      "cell_type": "code",
      "execution_count": null,
      "metadata": {
        "id": "2mQCJU9YWfsc",
        "outputId": "71bdd00d-105d-46de-e768-1e6943420e2a",
        "colab": {
          "base_uri": "https://localhost:8080/"
        }
      },
      "outputs": [
        {
          "output_type": "execute_result",
          "data": {
            "text/plain": [
              "0.4914038761309034"
            ]
          },
          "metadata": {},
          "execution_count": 68
        }
      ],
      "source": [
        "1 - (35/36.0)**24"
      ]
    },
    {
      "cell_type": "markdown",
      "metadata": {
        "id": "AdFDUaBCWfsc"
      },
      "source": [
        "So this is not a good gamble. We can also calculate this analytically with SymPy, by modelling a Binomial random variable:"
      ]
    },
    {
      "cell_type": "code",
      "execution_count": null,
      "metadata": {
        "id": "eGdRhGvsWfsc",
        "outputId": "2634fa9e-921e-450a-f4d6-b76801388e6e",
        "colab": {
          "base_uri": "https://localhost:8080/",
          "height": 37
        }
      },
      "outputs": [
        {
          "output_type": "execute_result",
          "data": {
            "text/plain": [
              "0.491403876130903"
            ],
            "text/latex": "$\\displaystyle 0.491403876130903$"
          },
          "metadata": {},
          "execution_count": 69
        }
      ],
      "source": [
        "A = sympy.stats.Die(\"A\", 6)\n",
        "B = sympy.stats.Die(\"B\", 6)\n",
        "doublesix = sympy.stats.Binomial(\"DoubleSix\", 24, sympy.stats.P(sympy.And(A > 5, B > 5)))\n",
        "sympy.stats.P(doublesix >= 1) + 0.0"
      ]
    },
    {
      "cell_type": "markdown",
      "metadata": {
        "collapsed": true,
        "id": "4F2rw4biWfsc"
      },
      "source": [
        "**Exercise**: write some Python code to simulate this gamble and check that you obtain a similar probability. "
      ]
    },
    {
      "cell_type": "markdown",
      "metadata": {
        "id": "5E7k3UN-Wfsc"
      },
      "source": [
        "## Pepys and Newton"
      ]
    },
    {
      "cell_type": "markdown",
      "metadata": {
        "id": "oxrSx3n7Wfsc"
      },
      "source": [
        "Samuel Pepys was a great diarist of the English language and a friend of Isaac Newton’s. Pepys was a gambler and [wrote to Newton](https://en.wikipedia.org/wiki/Newton%E2%80%93Pepys_problem) to ask which of three events is the most likely:\n",
        "\n",
        "1. at least one six comes up when six fair dice are rolled;\n",
        "2. at least two sixes come up when 12 dice are rolled;\n",
        "3. at least three sixes come up when 18 dice are rolled.\n",
        "\n",
        "Now Newton wasn’t able to use Python, and spent a while working out the answers, but we can [stand on the shoulders of giants](https://en.wikipedia.org/wiki/Standing_on_the_shoulders_of_giants) and figure this out quite easily.  "
      ]
    },
    {
      "cell_type": "markdown",
      "metadata": {
        "id": "JYONZv68Wfsc"
      },
      "source": [
        "**Possibility 1**: the probability of rolling at least one six is 1 minus the probability of zero sixes, which is"
      ]
    },
    {
      "cell_type": "code",
      "execution_count": null,
      "metadata": {
        "id": "9j4e_6dNWfsc",
        "outputId": "798ae081-7bdc-4b15-a20f-ed1a8cbc1010",
        "colab": {
          "base_uri": "https://localhost:8080/"
        }
      },
      "outputs": [
        {
          "output_type": "execute_result",
          "data": {
            "text/plain": [
              "0.6651020233196159"
            ]
          },
          "metadata": {},
          "execution_count": 70
        }
      ],
      "source": [
        "1 - (5/6.0)**6"
      ]
    },
    {
      "cell_type": "markdown",
      "metadata": {
        "id": "vO3PuvW2Wfsc"
      },
      "source": [
        "**Possibility 2**: the probability of at least two sixes is 1 minus the probability of zero sixes, minus the probability of a single six. The probability of zero sixes is easy to calculate; here are two ways of calculating it."
      ]
    },
    {
      "cell_type": "code",
      "execution_count": null,
      "metadata": {
        "id": "dauOb68vWfsc",
        "outputId": "bb1f4fea-9485-4e38-d406-73b64abec764",
        "colab": {
          "base_uri": "https://localhost:8080/"
        }
      },
      "outputs": [
        {
          "output_type": "execute_result",
          "data": {
            "text/plain": [
              "0.11215665478461515"
            ]
          },
          "metadata": {},
          "execution_count": 71
        }
      ],
      "source": [
        "# throw a non-6 12 times\n",
        "(5/6.0)**12"
      ]
    },
    {
      "cell_type": "code",
      "execution_count": null,
      "metadata": {
        "id": "x_PVzBjjWfsc",
        "outputId": "b4cec409-597d-43f8-c76a-d18d04ce35a5",
        "colab": {
          "base_uri": "https://localhost:8080/"
        }
      },
      "outputs": [
        {
          "output_type": "execute_result",
          "data": {
            "text/plain": [
              "0.11215665478461515"
            ]
          },
          "metadata": {},
          "execution_count": 72
        }
      ],
      "source": [
        "# probability mass at 0 of a binomial distribution with n=12, p=1/6\n",
        "scipy.stats.binom(12, 1/6.0).pmf(0)"
      ]
    },
    {
      "cell_type": "markdown",
      "metadata": {
        "id": "uaacbDDFWfsd"
      },
      "source": [
        "so the final answer is"
      ]
    },
    {
      "cell_type": "code",
      "execution_count": null,
      "metadata": {
        "id": "4tqzfd7_Wfsd",
        "outputId": "c9f0d72a-b0ce-4f36-f95a-1e59d6299dc8",
        "colab": {
          "base_uri": "https://localhost:8080/"
        }
      },
      "outputs": [
        {
          "output_type": "execute_result",
          "data": {
            "text/plain": [
              "0.6186673737323087"
            ]
          },
          "metadata": {},
          "execution_count": 73
        }
      ],
      "source": [
        "roll12 = scipy.stats.binom(12, 1/6.0)\n",
        "1 - roll12.pmf(0) - roll12.pmf(1)"
      ]
    },
    {
      "cell_type": "markdown",
      "metadata": {
        "id": "seV-xS2zWfsd"
      },
      "source": [
        "**Possibility 3**: in the same way, the probability of at least three sixes when rolling 18 dice is one minus the probability of zero sixes, minus the probability of one six, minus the probability of two sixes."
      ]
    },
    {
      "cell_type": "code",
      "execution_count": null,
      "metadata": {
        "id": "0NMMHqo2Wfsd",
        "outputId": "25c534c4-3774-4d77-df82-29e99fc2fd8f",
        "colab": {
          "base_uri": "https://localhost:8080/"
        }
      },
      "outputs": [
        {
          "output_type": "execute_result",
          "data": {
            "text/plain": [
              "0.5973456859477231"
            ]
          },
          "metadata": {},
          "execution_count": 74
        }
      ],
      "source": [
        "roll18 = scipy.stats.binom(18, 1/6.0)\n",
        "1 - roll18.pmf(0) - roll18.pmf(1) - roll18.pmf(2)"
      ]
    },
    {
      "cell_type": "code",
      "execution_count": null,
      "metadata": {
        "id": "JjT4EqofWfsd",
        "outputId": "e378d20a-153e-4e31-a047-dcc1066b8c6b",
        "colab": {
          "base_uri": "https://localhost:8080/"
        }
      },
      "outputs": [
        {
          "output_type": "execute_result",
          "data": {
            "text/plain": [
              "0.5973456859477229"
            ]
          },
          "metadata": {},
          "execution_count": 75
        }
      ],
      "source": [
        "1 - roll18.cdf(2)"
      ]
    },
    {
      "cell_type": "markdown",
      "source": [
        "# Simulating Earthquake Occurences"
      ],
      "metadata": {
        "id": "17rY2-PTNjsq"
      }
    },
    {
      "cell_type": "markdown",
      "source": [
        "Suppose we live in an area where there are typically 0.03 earthquakes of intensity 5 or more per year.\n",
        "Assume earthquake arrival is a Poisson\n",
        "process \\\\\n",
        "• interval between earthquakes follows an exponential distribution \\\\\n",
        "• events are independent \\\\\n",
        "\n",
        "Simulate the random intervals between the next earthquakes of intensity 5 or greater \\\\\n",
        "What is the 25th percentile of the interval between 5+ earthquakes?"
      ],
      "metadata": {
        "id": "xCY0POaOO0_H"
      }
    },
    {
      "cell_type": "code",
      "source": [
        "from scipy.stats import expon"
      ],
      "metadata": {
        "id": "O1n-ocn3NxEo"
      },
      "execution_count": null,
      "outputs": []
    },
    {
      "cell_type": "code",
      "source": [
        "expon(scale=1/0.03).rvs(size=15)"
      ],
      "metadata": {
        "colab": {
          "base_uri": "https://localhost:8080/"
        },
        "id": "LOpfxLzKN0Mu",
        "outputId": "ea8564b3-9bbb-483f-d2c9-e6fbef48098a"
      },
      "execution_count": null,
      "outputs": [
        {
          "output_type": "execute_result",
          "data": {
            "text/plain": [
              "array([18.72042316,  7.29412722, 57.55379103,  2.79842692, 66.91281968,\n",
              "       28.9585067 , 20.45573374, 26.59784103, 15.72599375,  4.55069637,\n",
              "       48.39735626, 87.6620666 , 99.90285505, 37.02736772, 17.60739247])"
            ]
          },
          "metadata": {},
          "execution_count": 77
        }
      ]
    },
    {
      "cell_type": "code",
      "source": [
        "expon(scale=1/0.03).ppf(0.25) # answer is “around 10 years”"
      ],
      "metadata": {
        "colab": {
          "base_uri": "https://localhost:8080/"
        },
        "id": "OXHNTfk0N3WJ",
        "outputId": "2051f373-d027-4783-cd54-85de668ac551"
      },
      "execution_count": null,
      "outputs": [
        {
          "output_type": "execute_result",
          "data": {
            "text/plain": [
              "9.589402415059364"
            ]
          },
          "metadata": {},
          "execution_count": 78
        }
      ]
    }
  ]
}